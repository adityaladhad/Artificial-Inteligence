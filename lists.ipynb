{
 "cells": [
  {
   "cell_type": "markdown",
   "metadata": {},
   "source": [
    "ASSIGNING ELEMENTS TO THE LIST"
   ]
  },
  {
   "cell_type": "code",
   "execution_count": 4,
   "metadata": {},
   "outputs": [
    {
     "name": "stdout",
     "output_type": "stream",
     "text": [
      "Enter elements to be added to the List seperates by a space5 6 435 56 346345 45\n",
      "List is [5, 6, 435, 56, 346345, 45]\n"
     ]
    }
   ],
   "source": [
    "a=[int(x) for x in input(\"Enter elements to be added to the List seperates by a space\").split()]\n",
    "print(\"List is\",a)"
   ]
  },
  {
   "cell_type": "markdown",
   "metadata": {},
   "source": [
    "ACCESSING ELEMENTS FROM A TUPLE"
   ]
  },
  {
   "cell_type": "code",
   "execution_count": 5,
   "metadata": {},
   "outputs": [
    {
     "name": "stdout",
     "output_type": "stream",
     "text": [
      "2nd value of the tuple is ewugf\n",
      "4th value of the tuple is 834.325\n",
      "5th value of the tuple is uhsfiw\n"
     ]
    }
   ],
   "source": [
    "t=(\"adaf\",\"ewugf\",7841,834.325,\"uhsfiw\")\n",
    "print(\"2nd value of the tuple is\",t[1])\n",
    "print(\"4th value of the tuple is\",t[3])\n",
    "print(\"5th value of the tuple is\",t[4])"
   ]
  },
  {
   "cell_type": "markdown",
   "metadata": {},
   "source": [
    "DELETING ELEMENTS OF A DICTIONARY"
   ]
  },
  {
   "cell_type": "code",
   "execution_count": 12,
   "metadata": {},
   "outputs": [
    {
     "name": "stdout",
     "output_type": "stream",
     "text": [
      "{'t': 1, 'u': 97, 'gc': 3267, 'fhierb': 'cbjek'}\n",
      "dictionary after deleting t {'u': 97, 'gc': 3267, 'fhierb': 'cbjek'}\n",
      "dictionary after deleting u {'gc': 3267, 'fhierb': 'cbjek'}\n"
     ]
    }
   ],
   "source": [
    "d={\"t\":1,\"u\":97,\"gc\":3267,\"fhierb\":\"cbjek\"}\n",
    "print(d)\n",
    "del d[\"t\"]\n",
    "print(\"dictionary after deleting t\",d)\n",
    "del d[\"u\"]\n",
    "print(\"dictionary after deleting u\",d)"
   ]
  },
  {
   "cell_type": "code",
   "execution_count": null,
   "metadata": {},
   "outputs": [],
   "source": []
  }
 ],
 "metadata": {
  "kernelspec": {
   "display_name": "Python 3",
   "language": "python",
   "name": "python3"
  },
  "language_info": {
   "codemirror_mode": {
    "name": "ipython",
    "version": 3
   },
   "file_extension": ".py",
   "mimetype": "text/x-python",
   "name": "python",
   "nbconvert_exporter": "python",
   "pygments_lexer": "ipython3",
   "version": "3.7.3"
  }
 },
 "nbformat": 4,
 "nbformat_minor": 2
}
