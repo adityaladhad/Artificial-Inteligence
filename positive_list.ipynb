{
 "cells": [
  {
   "cell_type": "code",
   "execution_count": 13,
   "metadata": {},
   "outputs": [
    {
     "name": "stdout",
     "output_type": "stream",
     "text": [
      "enter elements to be added to the list\n",
      "-45 5 6764 -67 56 35 467 -8568 3523\n",
      "[5, 6764, 56, 35, 467, 3523]\n"
     ]
    }
   ],
   "source": [
    "print(\"enter elements to be added to the list\")\n",
    "\n",
    "a=[int(x) for x in input().split()]\n",
    "b=[]\n",
    "for i in range(len(a)):\n",
    "    if a[i]>0:\n",
    "        b.append(a[i])\n",
    "print(b)"
   ]
  },
  {
   "cell_type": "code",
   "execution_count": null,
   "metadata": {},
   "outputs": [],
   "source": []
  },
  {
   "cell_type": "code",
   "execution_count": null,
   "metadata": {},
   "outputs": [],
   "source": []
  }
 ],
 "metadata": {
  "kernelspec": {
   "display_name": "Python 3",
   "language": "python",
   "name": "python3"
  },
  "language_info": {
   "codemirror_mode": {
    "name": "ipython",
    "version": 3
   },
   "file_extension": ".py",
   "mimetype": "text/x-python",
   "name": "python",
   "nbconvert_exporter": "python",
   "pygments_lexer": "ipython3",
   "version": "3.7.3"
  }
 },
 "nbformat": 4,
 "nbformat_minor": 2
}
